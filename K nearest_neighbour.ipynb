{
 "cells": [
  {
   "cell_type": "code",
   "execution_count": 1,
   "metadata": {},
   "outputs": [],
   "source": [
    "# This is our training set \n",
    "# Here the number are the features and a and b are the categories\n",
    "# i.e means that training set has 5 points that can plot on the graph \n",
    "training_set=([[4,4,3,2,\"a\"],\n",
    "            [4,4,3,1,\"a\"],\n",
    "            [4,4,2,1,\"a\"],\n",
    "            [5,2,3,2,\"b\"],\n",
    "            [5,3,3,0,\"b\"]])"
   ]
  },
  {
   "cell_type": "code",
   "execution_count": 2,
   "metadata": {},
   "outputs": [
    {
     "name": "stdout",
     "output_type": "stream",
     "text": [
      "[[4, 4, 3, 2, 'a'], [4, 4, 3, 1, 'a'], [4, 4, 2, 1, 'a'], [5, 2, 3, 2, 'b'], [5, 3, 3, 0, 'b']]\n"
     ]
    }
   ],
   "source": [
    "print(training_set)"
   ]
  },
  {
   "cell_type": "code",
   "execution_count": 3,
   "metadata": {},
   "outputs": [],
   "source": [
    "test_set=([[4,3,2,1,\"a\"],[5,2,3,1,\"b\"],[4,5,3,1,\"a\"]])\n"
   ]
  },
  {
   "cell_type": "code",
   "execution_count": 4,
   "metadata": {},
   "outputs": [],
   "source": [
    "# This function will calculate the distance between two points on the graph \n",
    "import math \n",
    "def euclidian_distance(pt_1,pt_2,length):\n",
    "    dis=0\n",
    "    for i in range(length-2):\n",
    "        dis=dis+ pow(pt_1[i]-pt_2[i],2)\n",
    "    return math.sqrt(dis)"
   ]
  },
  {
   "cell_type": "code",
   "execution_count": 5,
   "metadata": {},
   "outputs": [
    {
     "name": "stdout",
     "output_type": "stream",
     "text": [
      "2.23606797749979\n"
     ]
    }
   ],
   "source": [
    "# Checking the function \n",
    "# calculating the distance between 2 points a and b (a=[2,2,1,3] and b=[3,4,3,3]) the distance should be equal to 3\n",
    "a=[2,2,1,3]\n",
    "b=[3,4,3,2]\n",
    "print(euclidian_distance(a,b,4))"
   ]
  },
  {
   "cell_type": "code",
   "execution_count": 6,
   "metadata": {},
   "outputs": [],
   "source": [
    "# This function will calculate the distance of test point from all other training point \n",
    "# and will return a list k nearest neighbour and their category \n",
    "import operator \n",
    "def get_distance(x,y,k):\n",
    "# Here x is the training data set and y is the testing value\n",
    "    length=len(x)\n",
    "    distances=[]\n",
    "# It is a list that have distances of test point from the category \n",
    "    for i in range(length):\n",
    "        dis=euclidian_distance(x[i],y,len(y))\n",
    "        distances.append((x[i][-1],dis))\n",
    "    distances.sort(key=operator.itemgetter(1))\n",
    "    nearest_neighbour=[]\n",
    "# A list that cantain only k values \n",
    "    for j in range(k):\n",
    "        nearest_neighbour.append(distances[j])\n",
    "    return nearest_neighbour\n",
    "        \n",
    "        \n",
    "    \n",
    "    \n",
    "    "
   ]
  },
  {
   "cell_type": "code",
   "execution_count": 7,
   "metadata": {},
   "outputs": [
    {
     "name": "stdout",
     "output_type": "stream",
     "text": [
      "[('a', 1.0), ('a', 1.4142135623730951), ('a', 1.4142135623730951), ('b', 1.4142135623730951), ('b', 1.7320508075688772)]\n"
     ]
    }
   ],
   "source": [
    "# Checking the function\n",
    "print(get_distance(training_set,test_set[0],5))"
   ]
  },
  {
   "cell_type": "code",
   "execution_count": 8,
   "metadata": {},
   "outputs": [],
   "source": [
    "# This function will check the which category has the maximum votes \n",
    "def get_votes(neighbour):\n",
    "    votes={}\n",
    "    \n",
    "    \n",
    "    for i in range(len(neighbour)):\n",
    "        x=neighbour[i][0]\n",
    "        if x in votes:\n",
    "            votes[x]+=1\n",
    "        else:\n",
    "            votes[x]=1\n",
    "        votes_=sorted(votes.items(),key=operator.itemgetter(1),reverse=True)\n",
    "    return votes_[0][0]\n",
    "    \n",
    "     "
   ]
  },
  {
   "cell_type": "code",
   "execution_count": 9,
   "metadata": {},
   "outputs": [
    {
     "data": {
      "text/plain": [
       "'a'"
      ]
     },
     "execution_count": 9,
     "metadata": {},
     "output_type": "execute_result"
    }
   ],
   "source": [
    "# Checking the function\n",
    "get_votes(get_distance(training_set,test_set[0],5))"
   ]
  },
  {
   "cell_type": "code",
   "execution_count": 10,
   "metadata": {},
   "outputs": [],
   "source": [
    "def accuracy(x,y):\n",
    "    a=0\n",
    "    for i in range(len(x)):\n",
    "        if x[i]==y[i]:\n",
    "            a=a+1\n",
    "    return a/len(x)*100\n",
    "    "
   ]
  },
  {
   "cell_type": "code",
   "execution_count": null,
   "metadata": {},
   "outputs": [],
   "source": [
    "\n",
    "    \n",
    "    \n"
   ]
  },
  {
   "cell_type": "code",
   "execution_count": null,
   "metadata": {},
   "outputs": [],
   "source": []
  },
  {
   "cell_type": "code",
   "execution_count": 11,
   "metadata": {},
   "outputs": [],
   "source": [
    "import random \n",
    "import csv\n",
    "def loaddataset(file_name,split,trainingset=[],testset=[]):\n",
    "    with open(file_name,\"r\") as csvfile:\n",
    "        lines=csv.reader(csvfile)\n",
    "        dataset=list(lines)\n",
    "\n",
    "        for x in range(len(dataset)-1):\n",
    "            for y in range(4):\n",
    "                dataset[x][y]=float(dataset[x][y])\n",
    "            if random.random()<= split:\n",
    "                trainingset.append(dataset[x])\n",
    "            else:\n",
    "                testset.append(dataset[x])\n",
    "        return (trainingset,testset)"
   ]
  },
  {
   "cell_type": "code",
   "execution_count": 12,
   "metadata": {},
   "outputs": [],
   "source": [
    "trainingset,testset=loaddataset(r\"C:\\Users\\DELL\\Downloads\\datasets_19_420_Iris.csv\",0.75,trainingset=[],testset=[])\n"
   ]
  },
  {
   "cell_type": "code",
   "execution_count": 16,
   "metadata": {},
   "outputs": [
    {
     "name": "stdout",
     "output_type": "stream",
     "text": [
      "['Iris-setosa', 'Iris-setosa', 'Iris-setosa', 'Iris-setosa', 'Iris-setosa', 'Iris-setosa', 'Iris-setosa', 'Iris-setosa', 'Iris-setosa', 'Iris-setosa', 'Iris-setosa', 'Iris-setosa', 'Iris-setosa', 'Iris-setosa', 'Iris-setosa', 'Iris-setosa', 'Iris-setosa', 'Iris-versicolor', 'Iris-versicolor', 'Iris-versicolor', 'Iris-versicolor', 'Iris-versicolor', 'Iris-versicolor', 'Iris-versicolor', 'Iris-versicolor', 'Iris-versicolor', 'Iris-versicolor', 'Iris-versicolor', 'Iris-versicolor', 'Iris-virginica', 'Iris-virginica', 'Iris-virginica', 'Iris-virginica', 'Iris-virginica', 'Iris-virginica', 'Iris-virginica', 'Iris-virginica', 'Iris-virginica', 'Iris-virginica', 'Iris-virginica', 'Iris-virginica', 'Iris-virginica', 'Iris-virginica', 'Iris-virginica', 'Iris-virginica']\n",
      "['Iris-setosa', 'Iris-setosa', 'Iris-setosa', 'Iris-setosa', 'Iris-setosa', 'Iris-setosa', 'Iris-setosa', 'Iris-setosa', 'Iris-setosa', 'Iris-setosa', 'Iris-setosa', 'Iris-setosa', 'Iris-setosa', 'Iris-setosa', 'Iris-setosa', 'Iris-setosa', 'Iris-setosa', 'Iris-versicolor', 'Iris-versicolor', 'Iris-versicolor', 'Iris-versicolor', 'Iris-versicolor', 'Iris-versicolor', 'Iris-versicolor', 'Iris-versicolor', 'Iris-versicolor', 'Iris-versicolor', 'Iris-versicolor', 'Iris-versicolor', 'Iris-virginica', 'Iris-virginica', 'Iris-virginica', 'Iris-virginica', 'Iris-virginica', 'Iris-virginica', 'Iris-virginica', 'Iris-virginica', 'Iris-virginica', 'Iris-virginica', 'Iris-virginica', 'Iris-virginica', 'Iris-virginica', 'Iris-virginica', 'Iris-virginica', 'Iris-virginica']\n"
     ]
    }
   ],
   "source": [
    "actual=[]\n",
    "prediction=[]\n",
    "for i in range(len(testset)):\n",
    "    result=get_distance(trainingset,testset[i],3)\n",
    "    prediction.append(get_votes(result))\n",
    "    actual.append(testset[i][-1])\n",
    "    \n",
    "print(actual)\n",
    "print(prediction)"
   ]
  },
  {
   "cell_type": "code",
   "execution_count": 17,
   "metadata": {},
   "outputs": [
    {
     "data": {
      "text/plain": [
       "100.0"
      ]
     },
     "execution_count": 17,
     "metadata": {},
     "output_type": "execute_result"
    }
   ],
   "source": [
    "accuracy(prediction,actual)"
   ]
  },
  {
   "cell_type": "code",
   "execution_count": null,
   "metadata": {},
   "outputs": [],
   "source": []
  },
  {
   "cell_type": "code",
   "execution_count": null,
   "metadata": {},
   "outputs": [],
   "source": []
  }
 ],
 "metadata": {
  "kernelspec": {
   "display_name": "Python 3",
   "language": "python",
   "name": "python3"
  },
  "language_info": {
   "codemirror_mode": {
    "name": "ipython",
    "version": 3
   },
   "file_extension": ".py",
   "mimetype": "text/x-python",
   "name": "python",
   "nbconvert_exporter": "python",
   "pygments_lexer": "ipython3",
   "version": "3.7.6"
  }
 },
 "nbformat": 4,
 "nbformat_minor": 4
}
